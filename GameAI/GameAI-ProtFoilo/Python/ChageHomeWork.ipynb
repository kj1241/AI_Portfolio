{
 "cells": [
  {
   "cell_type": "code",
   "execution_count": 1,
   "metadata": {},
   "outputs": [
    {
     "name": "stdout",
     "output_type": "stream",
     "text": [
      "알 수 없는 숫자입니다!\n",
      "None\n"
     ]
    }
   ],
   "source": [
    "# 앞선 숙제 RTF포멧에서 변경\n",
    "# test1\n",
    "number = 'Leopold'\n",
    "if number == '1':\n",
    "    print('입력한 숫자가 1입니다!')\n",
    "elif number == '2':\n",
    "    print('입력한 숫자가 2입니다!')\n",
    "elif number == '3':\n",
    "    print('입력한 숫자가 3입니다!')\n",
    "elif number == '4':\n",
    "    print('입력한 숫자가 4입니다!')\n",
    "else:\n",
    "    print('알 수 없는 숫자입니다!')\n",
    "\n",
    "# test2\n",
    "test = {\n",
    "    '조지훈': '조지훈...',\n",
    "    '게리': '게리...',\n",
    "    '인공지능': '인공지능...',\n",
    "    '연습': '연습...',\n",
    "    '테스트': '테스트...'\n",
    "}\n",
    "name = 'Leopold'\n",
    "print(test.get(name))\n"
   ]
  },
  {
   "cell_type": "code",
   "execution_count": 2,
   "metadata": {},
   "outputs": [
    {
     "name": "stdout",
     "output_type": "stream",
     "text": [
      "덧셈: 15\n",
      "뺄셈: 5\n",
      "곱셈: 50\n",
      "나눗셈: 2.0\n",
      "문자열 결합: 안녕 세상\n",
      "문자열 반복: 안녕안녕안녕\n",
      "과일 리스트: ['사과', '바나나', '체리']\n",
      "추가 후: ['사과', '바나나', '체리', '오렌지']\n",
      "제거 후: ['사과', '체리', '오렌지']\n",
      "리스트 슬라이싱: ['체리', '오렌지']\n",
      "학생 딕셔너리: {'이름': '존', '나이': 20, '과목': ['수학', '과학']}\n",
      "이름: 존\n",
      "업데이트된 나이: {'이름': '존', '나이': 21, '과목': ['수학', '과학']}\n",
      "For 반복문 반복: 0\n",
      "For 반복문 반복: 1\n",
      "For 반복문 반복: 2\n",
      "For 반복문 반복: 3\n",
      "For 반복문 반복: 4\n",
      "While 반복문 반복: 0\n",
      "While 반복문 반복: 1\n",
      "While 반복문 반복: 2\n",
      "While 반복문 반복: 3\n",
      "While 반복문 반복: 4\n",
      "안녕하세요, 앨리스님!\n",
      "안녕하세요, 밥님!\n",
      "홀수\n"
     ]
    }
   ],
   "source": [
    "# 기본 산술 연산\n",
    "a = 10\n",
    "b = 5\n",
    "print(\"덧셈:\", a + b)\n",
    "print(\"뺄셈:\", a - b)\n",
    "print(\"곱셈:\", a * b)\n",
    "print(\"나눗셈:\", a / b)\n",
    "\n",
    "# 문자열 연산\n",
    "string1 = \"안녕\"\n",
    "string2 = \"세상\"\n",
    "print(\"문자열 결합:\", string1 + \" \" + string2)\n",
    "print(\"문자열 반복:\", string1 * 3)\n",
    "\n",
    "# 리스트 연산\n",
    "fruits = [\"사과\", \"바나나\", \"체리\"]\n",
    "print(\"과일 리스트:\", fruits)\n",
    "fruits.append(\"오렌지\")\n",
    "print(\"추가 후:\", fruits)\n",
    "fruits.remove(\"바나나\")\n",
    "print(\"제거 후:\", fruits)\n",
    "print(\"리스트 슬라이싱:\", fruits[1:3])\n",
    "\n",
    "# 딕셔너리 연산\n",
    "student = {\n",
    "    \"이름\": \"존\",\n",
    "    \"나이\": 20,\n",
    "    \"과목\": [\"수학\", \"과학\"]\n",
    "}\n",
    "print(\"학생 딕셔너리:\", student)\n",
    "print(\"이름:\", student[\"이름\"])\n",
    "student[\"나이\"] = 21\n",
    "print(\"업데이트된 나이:\", student)\n",
    "\n",
    "# 반복문 예제\n",
    "# For 반복문\n",
    "for i in range(5):\n",
    "    print(\"For 반복문 반복:\", i)\n",
    "\n",
    "# While 반복문\n",
    "count = 0\n",
    "while count < 5:\n",
    "    print(\"While 반복문 반복:\", count)\n",
    "    count += 1\n",
    "\n",
    "# 함수 정의 및 호출\n",
    "def greet(name):\n",
    "    return f\"안녕하세요, {name}님!\"\n",
    "\n",
    "print(greet(\"앨리스\"))\n",
    "print(greet(\"밥\"))\n",
    "\n",
    "# 조건문\n",
    "number = 7\n",
    "if number % 2 == 0:\n",
    "    print(\"짝수\")\n",
    "else:\n",
    "    print(\"홀수\")\n"
   ]
  },
  {
   "cell_type": "code",
   "execution_count": 3,
   "metadata": {},
   "outputs": [
    {
     "name": "stdout",
     "output_type": "stream",
     "text": [
      "파일 내용:\n",
      " 이것은 예제 파일입니다.\n",
      "파이썬을 사용하여 파일을 읽고 씁니다.\n",
      "\n"
     ]
    }
   ],
   "source": [
    "# 파일 쓰기\n",
    "with open(\"example.txt\", \"w\", encoding=\"utf-8\") as file:\n",
    "    file.write(\"이것은 예제 파일입니다.\\n\")\n",
    "    file.write(\"파이썬을 사용하여 파일을 읽고 씁니다.\\n\")\n",
    "\n",
    "# 파일 읽기\n",
    "with open(\"example.txt\", \"r\", encoding=\"utf-8\") as file:\n",
    "    content = file.read()\n",
    "    print(\"파일 내용:\\n\", content)\n"
   ]
  },
  {
   "cell_type": "code",
   "execution_count": 5,
   "metadata": {},
   "outputs": [
    {
     "name": "stdout",
     "output_type": "stream",
     "text": [
      "바둑이가 멍멍 소리를 냅니다!\n",
      "이름: 바둑이, 종: 개, 품종: 시바 이누\n"
     ]
    }
   ],
   "source": [
    "#클래스와 객체\n",
    "class Animal:\n",
    "    def __init__(self, name, species):\n",
    "        self.name = name\n",
    "        self.species = species\n",
    "\n",
    "    def make_sound(self):\n",
    "        print(f\"{self.name}가 소리를 냅니다!\")\n",
    "\n",
    "class Dog(Animal):\n",
    "    def __init__(self, name, breed):\n",
    "        super().__init__(name, \"개\")\n",
    "        self.breed = breed\n",
    "\n",
    "    def make_sound(self):\n",
    "        print(f\"{self.name}가 멍멍 소리를 냅니다!\")\n",
    "\n",
    "dog = Dog(\"바둑이\", \"시바 이누\")\n",
    "dog.make_sound()\n",
    "print(f\"이름: {dog.name}, 종: {dog.species}, 품종: {dog.breed}\")\n"
   ]
  },
  {
   "cell_type": "code",
   "execution_count": 6,
   "metadata": {},
   "outputs": [
    {
     "name": "stdout",
     "output_type": "stream",
     "text": [
      "제곱 리스트: [0, 1, 4, 9, 16, 25, 36, 49, 64, 81]\n",
      "제너레이터 제곱: 0\n",
      "제너레이터 제곱: 1\n",
      "제너레이터 제곱: 4\n",
      "제너레이터 제곱: 9\n",
      "제너레이터 제곱: 16\n",
      "제너레이터 제곱: 25\n",
      "제너레이터 제곱: 36\n",
      "제너레이터 제곱: 49\n",
      "제너레이터 제곱: 64\n",
      "제너레이터 제곱: 81\n"
     ]
    }
   ],
   "source": [
    "# 리스트 컴프리헨션\n",
    "squares = [x ** 2 for x in range(10)]\n",
    "print(\"제곱 리스트:\", squares)\n",
    "\n",
    "# 제너레이터\n",
    "def generate_squares(n):\n",
    "    for x in range(n):\n",
    "        yield x ** 2\n",
    "\n",
    "for square in generate_squares(10):\n",
    "    print(\"제너레이터 제곱:\", square)\n"
   ]
  },
  {
   "cell_type": "code",
   "execution_count": 7,
   "metadata": {},
   "outputs": [
    {
     "name": "stdout",
     "output_type": "stream",
     "text": [
      "0으로 나눌 수 없습니다!\n",
      "이 문장은 항상 실행됩니다.\n",
      "파일을 찾을 수 없습니다!\n"
     ]
    }
   ],
   "source": [
    "#예외처리\n",
    "try:\n",
    "    result = 10 / 0\n",
    "except ZeroDivisionError:\n",
    "    print(\"0으로 나눌 수 없습니다!\")\n",
    "finally:\n",
    "    print(\"이 문장은 항상 실행됩니다.\")\n",
    "\n",
    "try:\n",
    "    with open(\"non_existent_file.txt\", \"r\", encoding=\"utf-8\") as file:\n",
    "        content = file.read()\n",
    "except FileNotFoundError:\n",
    "    print(\"파일을 찾을 수 없습니다!\")\n"
   ]
  },
  {
   "cell_type": "code",
   "execution_count": 8,
   "metadata": {},
   "outputs": [
    {
     "name": "stdout",
     "output_type": "stream",
     "text": [
      "원주율: 3.141592653589793\n",
      "2의 제곱근: 1.4142135623730951\n",
      "현재 시간: 2024-05-30 12:39:04.367965\n"
     ]
    }
   ],
   "source": [
    "# math 모듈 사용\n",
    "import math\n",
    "\n",
    "print(\"원주율:\", math.pi)\n",
    "print(\"2의 제곱근:\", math.sqrt(2))\n",
    "\n",
    "# datetime 모듈 사용\n",
    "from datetime import datetime\n",
    "\n",
    "now = datetime.now()\n",
    "print(\"현재 시간:\", now)\n"
   ]
  },
  {
   "cell_type": "code",
   "execution_count": null,
   "metadata": {},
   "outputs": [],
   "source": []
  }
 ],
 "metadata": {
  "kernelspec": {
   "display_name": "Python 3",
   "language": "python",
   "name": "python3"
  },
  "language_info": {
   "codemirror_mode": {
    "name": "ipython",
    "version": 3
   },
   "file_extension": ".py",
   "mimetype": "text/x-python",
   "name": "python",
   "nbconvert_exporter": "python",
   "pygments_lexer": "ipython3",
   "version": "3.8.5"
  }
 },
 "nbformat": 4,
 "nbformat_minor": 4
}
