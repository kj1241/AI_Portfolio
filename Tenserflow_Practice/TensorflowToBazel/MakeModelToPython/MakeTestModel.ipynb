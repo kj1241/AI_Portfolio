{
 "cells": [
  {
   "cell_type": "code",
   "execution_count": 2,
   "metadata": {},
   "outputs": [
    {
     "name": "stdout",
     "output_type": "stream",
     "text": [
      "Epoch 10, Loss: 546.912109375\n",
      "Epoch 20, Loss: 473.8365173339844\n",
      "Epoch 30, Loss: 411.0013122558594\n",
      "Epoch 40, Loss: 357.8159484863281\n",
      "Epoch 50, Loss: 313.2666931152344\n",
      "Epoch 60, Loss: 276.23468017578125\n",
      "Epoch 70, Loss: 245.72311401367188\n",
      "Epoch 80, Loss: 220.85906982421875\n",
      "Epoch 90, Loss: 200.85867309570312\n",
      "Epoch 100, Loss: 184.9615936279297\n",
      "[[ -3.542549 ]\n",
      " [ -6.1069574]\n",
      " [ -2.9671807]\n",
      " [ -3.5784156]\n",
      " [ -2.817759 ]\n",
      " [ -3.826483 ]\n",
      " [ -3.0745263]\n",
      " [-11.372278 ]\n",
      " [-13.481796 ]\n",
      " [ -1.8846102]]\n"
     ]
    }
   ],
   "source": [
    "import numpy as np\n",
    "import tensorflow.compat.v1 as tf\n",
    "tf.disable_v2_behavior()\n",
    "\n",
    "# 가상의 대규모 데이터셋 생성\n",
    "np.random.seed(0)\n",
    "x_train = np.random.uniform(-10, 10, size=1000)\n",
    "y_train = 2.0 * x_train + 1.0 + np.random.normal(0, 2, size=1000)\n",
    "\n",
    "# 그래프 초기화\n",
    "tf.reset_default_graph()\n",
    "\n",
    "# 플레이스홀더 설정\n",
    "X = tf.placeholder(tf.float32, name='X')\n",
    "Y = tf.placeholder(tf.float32, name='Y')\n",
    "\n",
    "# 모델 가중치와 바이어스\n",
    "W1 = tf.Variable(tf.random_normal([1, 10]), name='W1')\n",
    "b1 = tf.Variable(tf.random_normal([10]), name='b1')\n",
    "W2 = tf.Variable(tf.random_normal([10, 10]), name='W2')\n",
    "b2 = tf.Variable(tf.random_normal([10]), name='b2')\n",
    "W3 = tf.Variable(tf.random_normal([10, 1]), name='W3')\n",
    "b3 = tf.Variable(tf.random_normal([1]), name='b3')\n",
    "\n",
    "# 모델 정의\n",
    "layer_1 = tf.nn.relu(tf.add(tf.matmul(tf.expand_dims(X, -1), W1), b1))\n",
    "layer_2 = tf.nn.relu(tf.add(tf.matmul(layer_1, W2), b2))\n",
    "predictions = tf.add(tf.matmul(layer_2, W3), b3, name='predictions')\n",
    "\n",
    "# 손실 함수 및 옵티마이저 정의\n",
    "loss = tf.reduce_mean(tf.square(predictions - Y))\n",
    "optimizer = tf.train.AdamOptimizer().minimize(loss, name='train')  # 학습 연산 추가\n",
    "\n",
    "# 세션 초기화 및 변수 초기화\n",
    "init = tf.global_variables_initializer()\n",
    "\n",
    "with tf.Session() as sess:\n",
    "    sess.run(init)\n",
    "\n",
    "    # 모델 학습\n",
    "    epochs = 100\n",
    "    for epoch in range(epochs):\n",
    "        _, l = sess.run([optimizer, loss], feed_dict={X: x_train, Y: y_train})\n",
    "        if (epoch + 1) % 10 == 0:\n",
    "            print(f'Epoch {epoch+1}, Loss: {l}')\n",
    "\n",
    "    # 그래프 및 가중치 저장\n",
    "    graph_def = sess.graph.as_graph_def()\n",
    "\n",
    "    # 모든 변수와 그 값을 불러오기\n",
    "    output_graph_def = tf.graph_util.convert_variables_to_constants(\n",
    "        sess, graph_def, ['predictions'])\n",
    "\n",
    "    # 모델을 .pb 파일로 저장\n",
    "    with tf.gfile.GFile('model.pb', 'wb') as f:\n",
    "        f.write(output_graph_def.SerializeToString())\n",
    "\n",
    "    # 로드한 모델로 예측 (예시로 10개의 데이터를 예측)\n",
    "    predictions_val = sess.run(predictions, feed_dict={X: x_train[:10]})\n",
    "    print(predictions_val)\n"
   ]
  },
  {
   "cell_type": "code",
   "execution_count": null,
   "metadata": {},
   "outputs": [],
   "source": []
  }
 ],
 "metadata": {
  "kernelspec": {
   "display_name": "Python 3",
   "language": "python",
   "name": "python3"
  },
  "language_info": {
   "codemirror_mode": {
    "name": "ipython",
    "version": 3
   },
   "file_extension": ".py",
   "mimetype": "text/x-python",
   "name": "python",
   "nbconvert_exporter": "python",
   "pygments_lexer": "ipython3",
   "version": "3.8.5"
  }
 },
 "nbformat": 4,
 "nbformat_minor": 4
}
